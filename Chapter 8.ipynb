{
 "cells": [
  {
   "cell_type": "markdown",
   "metadata": {},
   "source": [
    "# Chapter 8 深度学习Deep Learning"
   ]
  },
  {
   "cell_type": "markdown",
   "metadata": {},
   "source": [
    "## 8.1 加深网络\n",
    "### 8.1.1 向更深的网络出发\n",
    "### 8.1.2 进一步提高识别精度\n",
    "### 8.1.3 加深层的动机\n",
    "\n",
    "## 8.2 深度学习的小历史\n",
    "### 8.2.1 ImageNet\n",
    "拥有超过100万张图像的数据集\n",
    "### 8.2.2 VGG\n",
    "由卷积层和和池化层构成的基础的CNN\n",
    "### 8.2.3 GoogLeNet\n",
    "不仅纵向上由深度，横向上也有深度（广度）\n",
    "### 8.2.4 ResNet\n",
    "过度加深层的话，很多情况下学习将不能顺利进行，导致最终性能不佳。ResNet中，为了解决这类问题，导入了“快捷结构”（也称为捷径或者小路）\n",
    "\n",
    "## 8.3 深度学习的高速化\n",
    "### 8.3.1 需要努力解决的问题\n",
    "AlexNet中，95%的处理时间用在了卷积层上，占了CPU的89%。因此，高速高效地进行卷积层中的运算是深度学习的一大课题。\n",
    "### 8.3.2 基于GPU的高速化\n",
    "### 8.3.3 分布式学习\n",
    "### 8.3.4 运算精度的位数缩减\n",
    "\n",
    "## 8.4 深度学习的应用案例\n",
    "### 8.4.1 物体检测(R-CNN, Faster R-CNN)\n",
    "### 8.4.2 图像分割(FCN)\n",
    "### 8.4.3 图像标题的生成\n",
    "一个基于深度学习生成图像标题的代表性方法是被称为NIC(Neural Image Caption)， 由陈层的CNN和处理语言的RNN（Recurrent Neural Network）构成。 RNN是呈递归式连接的网络，经常被用于自然语言、时间序列数据等连续性的数据上。\n",
    "\n",
    "## 8.5 深度学习的未来\n",
    "### 8.5.1 图像风格变换\"A Neural Algorithm of Artistic Style\"\n",
    "### 8.5.2 图像的生成DCGAN(Deep Convolutional Generative Adversarial Network)\n",
    "### 8.5.3 自动驾驶\n",
    "基于CNN的神经网络SegNet\n",
    "### 8.5.4 Deep Q-Network强化学习(DQN)\n",
    "reinforcement learning"
   ]
  },
  {
   "cell_type": "code",
   "execution_count": null,
   "metadata": {},
   "outputs": [],
   "source": []
  }
 ],
 "metadata": {
  "kernelspec": {
   "display_name": "Python 3",
   "language": "python",
   "name": "python3"
  },
  "language_info": {
   "codemirror_mode": {
    "name": "ipython",
    "version": 3
   },
   "file_extension": ".py",
   "mimetype": "text/x-python",
   "name": "python",
   "nbconvert_exporter": "python",
   "pygments_lexer": "ipython3",
   "version": "3.7.4"
  }
 },
 "nbformat": 4,
 "nbformat_minor": 2
}
