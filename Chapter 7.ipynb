{
 "cells": [
  {
   "cell_type": "markdown",
   "metadata": {},
   "source": [
    "# Chapter 7 卷积神经网络CNN, Convolutional Neural Network"
   ]
  },
  {
   "cell_type": "markdown",
   "metadata": {},
   "source": [
    "## 7.1 整体结构\n",
    "Affine层: Affine->ReLu -> Affine->ReLU -> Affine->ReLU -> Affine->ReLU -> Affine->Softmax->  \n",
    "CNN: Conv->ReLU->Pooling -> Conv->ReLU->Pooling -> Conv->ReLU -> Affine->ReLU -> Affine->Softmax ->  \n",
    "\n",
    "## 7.2 卷积层\n",
    "### 7.2.1 全连接层存在的问题\n",
    "特征图 feature map  \n",
    "输入特征图 input feature map  \n",
    "输出特征图 output feature map  \n",
    "\n",
    "### 7.2.2 卷积运算\n",
    "### 7.2.3 填充 padding\n",
    "### 7.2.4 步幅 stride\n",
    "输入大小(H,W)  \n",
    "滤波器大小 (FH, FW)  \n",
    "输出大小(OH, OW)  \n",
    "填充P  \n",
    "步幅S  \n",
    "OH = (H+2P-FH)/S + 1  \n",
    "OW = (W+2P-FW)/S + 1\n",
    "### 7.2.5 3维数据的卷积运算\n",
    "### 7.2.6 结合方块思考\n",
    "三维数据(channel, height, width)  \n",
    "滤波器(output_channel, input_channel, height, width)  \n",
    "偏置(output_channel, 1,1)   \n",
    "输出数据(channel, output_channel, output_height, output_weight)  \n",
    "### 7.2.7 批处理 \n",
    "(N, C, H, W) * (FN, C, FH, FW) -> (N, FN, OH, OW) + (FN, 1, 1) -> (N, FN, OH, OW)"
   ]
  },
  {
   "cell_type": "markdown",
   "metadata": {},
   "source": [
    "## 7.3 池化层\n",
    "Max池化是获取最大值的运算，2 * 2表示目标区域的大小。  \n",
    "Average池化计算目标区域的平均值。  "
   ]
  },
  {
   "cell_type": "markdown",
   "metadata": {},
   "source": [
    "## 7.4 卷积层和池化层的实现\n",
    "### 7.4.1 4维数组"
   ]
  },
  {
   "cell_type": "code",
   "execution_count": 3,
   "metadata": {},
   "outputs": [
    {
     "data": {
      "text/plain": [
       "(10, 1, 28, 28)"
      ]
     },
     "execution_count": 3,
     "metadata": {},
     "output_type": "execute_result"
    }
   ],
   "source": [
    "import numpy as np\n",
    "x = np.random.rand(10, 1, 28, 28)\n",
    "x.shape"
   ]
  },
  {
   "cell_type": "code",
   "execution_count": 4,
   "metadata": {},
   "outputs": [
    {
     "data": {
      "text/plain": [
       "(1, 28, 28)"
      ]
     },
     "execution_count": 4,
     "metadata": {},
     "output_type": "execute_result"
    }
   ],
   "source": [
    "x[0].shape"
   ]
  },
  {
   "cell_type": "code",
   "execution_count": 5,
   "metadata": {},
   "outputs": [
    {
     "data": {
      "text/plain": [
       "(1, 28, 28)"
      ]
     },
     "execution_count": 5,
     "metadata": {},
     "output_type": "execute_result"
    }
   ],
   "source": [
    "x[1].shape"
   ]
  },
  {
   "cell_type": "markdown",
   "metadata": {},
   "source": [
    "### 7.4.2 基于im2col的展开\n",
    "若按照for循环重复神经网层运算，实现麻烦，处理变慢。  \n",
    "使用im2col代替for。  \n",
    "\n",
    "#### im2col函数 image to column\n",
    "- 将输入的数据展开以适合滤波器(权重)\n",
    "- 将4维批数据转换为2维\n",
    "- 因此，要将步幅设置得很大，以使滤波器的应用区域不重叠\n",
    "- im2col的实现存在比普通的实现消耗更多内存的缺点。\n",
    "\n",
    "### 7.4.3 卷积层的实现"
   ]
  },
  {
   "cell_type": "code",
   "execution_count": 7,
   "metadata": {},
   "outputs": [],
   "source": [
    "import sys, os\n",
    "sys.path.append(\"./code/common\")\n",
    "from util import im2col"
   ]
  },
  {
   "cell_type": "code",
   "execution_count": 9,
   "metadata": {},
   "outputs": [
    {
     "name": "stdout",
     "output_type": "stream",
     "text": [
      "(9, 75)\n",
      "(90, 75)\n"
     ]
    }
   ],
   "source": [
    "\"\"\"\n",
    "input_data: 由(数据量，通道，高，长)的4维数组构成的输入数据\n",
    "filter_h: 滤波器的高\n",
    "filter_w: 滤波器的长\n",
    "stride: 步幅\n",
    "pad: 填充\n",
    "\"\"\"\n",
    "x1 = np.random.rand(1,3,7,7)\n",
    "col1 = im2col(x1, 5,5, stride=1, pad=0)\n",
    "print(col1.shape)\n",
    "\n",
    "x2 = np.random.rand(10, 3, 7, 7)\n",
    "col2 = im2col(x2, 5, 5, stride=1, pad=0)\n",
    "print(col2.shape)"
   ]
  },
  {
   "cell_type": "code",
   "execution_count": 10,
   "metadata": {},
   "outputs": [],
   "source": [
    "class Convolution:\n",
    "    def __init__(self, w, b, stride=1, pad=0):\n",
    "        self.w = w\n",
    "        self.b = b\n",
    "        self.stride = stride\n",
    "        self.pad = pad\n",
    "    def forward(self, x):\n",
    "        fn, c, fh, fw = self.w.shape\n",
    "        n, c, h, w = x.shape\n",
    "        out_h = int(1+(h + 2*self.pad - fh)/self.stride)\n",
    "        out_w = int(1+(h + 2*self.pad - fw)/self.stride)\n",
    "        \n",
    "        col = im2col(x, fh, fw, self.stride, self.pad)\n",
    "        col_w = self.w.reshape(fn, -1).T\n",
    "        out = np.dot(col, col_w) + self.b\n",
    "        \n",
    "        out = out.reshape(n, out_h, out_w, -1).transpose(0, 3, 1, 2)\n",
    "        return out"
   ]
  },
  {
   "cell_type": "markdown",
   "metadata": {},
   "source": [
    "shape: (N, H, W, C) -> Transpose -> (N, C, H, W)  \n",
    "index: 0, 1, 2, 3   -> Transpose -> 0, 3, 1, 2  "
   ]
  },
  {
   "cell_type": "markdown",
   "metadata": {},
   "source": [
    "### 7.4.4 池化层的实现"
   ]
  },
  {
   "cell_type": "code",
   "execution_count": 11,
   "metadata": {},
   "outputs": [],
   "source": [
    "class Pooling:\n",
    "    def __init__(self, pool_h, pool_w, stride=1, pad=0):\n",
    "        self.pool_h = pool_h\n",
    "        self.pool_w = pool_w\n",
    "        self.stride = stride\n",
    "        self.pad = pad\n",
    "    def forward(self, x):\n",
    "        n, c, h, w = x.shape\n",
    "        out_h = int(1+(h-self.h)/self.stride)\n",
    "        out_w = int(1+(w-self.w)/self.stride)\n",
    "        \n",
    "        col = im2col(x, self.pool_h, self.pool_w, self.stride, self.pad)\n",
    "        col = col.reshape(-1, self.pool_h*self.pool_w)\n",
    "        \n",
    "        out = np.max(col, axis=1)\n",
    "        out = out.reshape(n, out_h, out_w, c).transpose(0, 3, 1, 2)\n",
    "        return out"
   ]
  },
  {
   "cell_type": "markdown",
   "metadata": {},
   "source": [
    "## 7.5 CNN的实现\n",
    "\n",
    "params:  \n",
    "- input_dim 输入数据的维度: （通道，高，长）\n",
    "- conv_param 卷积层的超参数(dict)\n",
    ">* filter_num 滤波器的数量\n",
    ">* filter_size 滤波器的大小\n",
    ">* stride 步幅\n",
    ">* pad 填充\n",
    "- hidden_size 隐藏层的神经元数量\n",
    "- output_size 输出层的神经元数量\n",
    "- weight_int_std 初始化时权重的标准差"
   ]
  },
  {
   "cell_type": "code",
   "execution_count": 14,
   "metadata": {},
   "outputs": [],
   "source": [
    "class SimpleConvNet:\n",
    "    def __init__(self, \n",
    "                 input_dim=(1, 28, 28), \n",
    "                 conv_param={'filter_num':30, 'filter_size':5, 'pad':0, 'stride':1}, \n",
    "                 hidden_size=100, \n",
    "                 output_size=10, \n",
    "                 weight_init_std=0.01):\n",
    "        \n",
    "        filter_num = conv_param['filter_num']\n",
    "        filter_size = conv_param['filter_size']\n",
    "        filter_pad = conv_param['pad']\n",
    "        filter_stride = conv_param['stride']\n",
    "        input_size = input_dim[1]\n",
    "        conv_output_size = (input_size - filter_size + 2*filter_pad)/filter_stride + 1\n",
    "        pool_output_size = int(filter_num * (conv_output_size/2)*(conv_output_size/2))\n",
    "        \n",
    "        self.params = {}\n",
    "        self.params['w1'] = weight_init_std * np.random.randn(filter_num, input_dim[0], filter_size, filter_size)\n",
    "        self.params['b1'] = np.zeros(filter_num)\n",
    "        self.params['w2'] = weight_init_std * np.random.randn(pool_output_size, hidden_size, hidden_size)\n",
    "        self.params['b2'] = np.zeros(hidden_size)\n",
    "        self.params['w3'] = weight_init_std * np.random.randn(hidden_size, output_size)\n",
    "        self.params['b3'] = np.zeros(output_size)\n",
    "        \n",
    "        self.layers = OrderedDict()\n",
    "        self.layers['Conv1'] = Convolution(self.param['w1'],\n",
    "                                          self.param['b1'],\n",
    "                                          self.param['stride'],\n",
    "                                          self.param['pad'])\n",
    "        self.layers['Relu1'] = Relu()\n",
    "        self.layers['Pool1'] = Pooling(pool_h=2, pool_w=2, stride=2)\n",
    "        self.layers['Affine1'] = Affine(self.params['w2'], self.params['b2'])\n",
    "        self.layers['Relu2'] = Relu()\n",
    "        self.layers['Affine2'] = Affine(self.params['w3'], self.params['b3'])\n",
    "        self.last_layer = softmaxwithloss()\n",
    "    def predict(self, x):\n",
    "        for layer in self.layers.values():\n",
    "            x = layer.forward(x)\n",
    "        return x\n",
    "    def loss(self, x, t):\n",
    "        y = self.predict(x)\n",
    "        return self.lastLayer.forward(y, t)\n",
    "    def gradient(self, x, t):\n",
    "        self.loss(x, t)\n",
    "        dout = 1\n",
    "        dout = self.lastLayer.backward(dout)\n",
    "        layers = list(self.layers.values())\n",
    "        layers.reverse()\n",
    "        for layer in layers:\n",
    "            dout = layer.backward(dout)\n",
    "        \n",
    "        grads = {}\n",
    "        grads['w1'] = self.layers['Conv1'].dw\n",
    "        grads['b1'] = self.layers['Conv1'].db\n",
    "        grads['w2'] = self.layers['Affine1'].dw\n",
    "        grads['b2'] = self.layers['Affine1'].db\n",
    "        grads['w3'] = self.layers['Affine2'].dw\n",
    "        grads['b3'] = self.layers['Affine2'].db\n",
    "        return grads"
   ]
  },
  {
   "cell_type": "markdown",
   "metadata": {},
   "source": [
    "## 7.6 CNN的可视化\n",
    "### 7.6.1 第1层权重的可视化\n",
    "### 7.6.2 基于分层的信息提取"
   ]
  },
  {
   "cell_type": "markdown",
   "metadata": {},
   "source": [
    "## 7.7 具有代表性的CNN\n",
    "### 7.7.1 LeNet\n",
    "激活函数使用sigmoid，CNN使用ReLU；原始的LeNet中使用subsampling缩小中间数据的大小，但现在CNN中使用Max池化。  \n",
    "### 7.7.2 AlexNet\n",
    "- 激活函数使用ReLU\n",
    "- 使用进行局部正规化的LRN层(Local Response Normalization)\n",
    "- 使用Dropout"
   ]
  },
  {
   "cell_type": "code",
   "execution_count": null,
   "metadata": {},
   "outputs": [],
   "source": []
  }
 ],
 "metadata": {
  "kernelspec": {
   "display_name": "Python 3",
   "language": "python",
   "name": "python3"
  },
  "language_info": {
   "codemirror_mode": {
    "name": "ipython",
    "version": 3
   },
   "file_extension": ".py",
   "mimetype": "text/x-python",
   "name": "python",
   "nbconvert_exporter": "python",
   "pygments_lexer": "ipython3",
   "version": "3.7.4"
  }
 },
 "nbformat": 4,
 "nbformat_minor": 2
}
